{
 "cells": [
  {
   "cell_type": "code",
   "execution_count": 1,
   "metadata": {},
   "outputs": [
    {
     "name": "stdout",
     "output_type": "stream",
     "text": [
      "--2024-06-30 12:46:04--  https://huggingface.co/RWKV/rwkv-6-world-all-pth/resolve/main/RWKV-x060-World-1B6-v2-20240208-ctx4096.pth?download=true\n",
      "Resolving huggingface.co (huggingface.co)... 13.33.30.49, 13.33.30.114, 13.33.30.76, ...\n",
      "Connecting to huggingface.co (huggingface.co)|13.33.30.49|:443... connected.\n",
      "HTTP request sent, awaiting response... 302 Found\n",
      "Location: https://cdn-lfs-us-1.huggingface.co/repos/48/30/483049ba8ee5d55196d75ec1e62b0f9e3d78e41fcb387a970b30467deacc5d7f/5c9c877fb60a65cab269af175328b6aaf16d02b8b09738923254f9986e5dc440?response-content-disposition=attachment%3B+filename*%3DUTF-8%27%27RWKV-x060-World-1B6-v2-20240208-ctx4096.pth%3B+filename%3D%22RWKV-x060-World-1B6-v2-20240208-ctx4096.pth%22%3B&Expires=1719981964&Policy=eyJTdGF0ZW1lbnQiOlt7IkNvbmRpdGlvbiI6eyJEYXRlTGVzc1RoYW4iOnsiQVdTOkVwb2NoVGltZSI6MTcxOTk4MTk2NH19LCJSZXNvdXJjZSI6Imh0dHBzOi8vY2RuLWxmcy11cy0xLmh1Z2dpbmdmYWNlLmNvL3JlcG9zLzQ4LzMwLzQ4MzA0OWJhOGVlNWQ1NTE5NmQ3NWVjMWU2MmIwZjllM2Q3OGU0MWZjYjM4N2E5NzBiMzA0NjdkZWFjYzVkN2YvNWM5Yzg3N2ZiNjBhNjVjYWIyNjlhZjE3NTMyOGI2YWFmMTZkMDJiOGIwOTczODkyMzI1NGY5OTg2ZTVkYzQ0MD9yZXNwb25zZS1jb250ZW50LWRpc3Bvc2l0aW9uPSoifV19&Signature=O97vVEehwm4y-usmSUi5jOjH5Mo3szE3u7traTqYIJfofpX82hyPyu2ZOvdFKkzTxAKW-J7eMfgt9cZVrLZLx4W43wLDeVAE-tvFGV8N5FBSqJHt6cdU5qQDks%7EdN-sdyl4P8-Es60Q9mhKbFjUNW9BFjQuUB%7EAcP3hlF2ad9l82tzOCtJwpnzA7-ynFOqcTreCiFP3albqWMe4f0-onUBfMn6xjOWA-yqWuGz9utMqzlGwFESr73HTl%7EX1Ityfv66Wh3-hN8wdFttF2Ua5p16NVt5sFb6JgGFrKvGjKo1NqOrD45hAZGuRrRjByP7GRSJDBn2PWOyzm7TEjumCDqQ__&Key-Pair-Id=K24J24Z295AEI9 [following]\n",
      "--2024-06-30 12:46:04--  https://cdn-lfs-us-1.huggingface.co/repos/48/30/483049ba8ee5d55196d75ec1e62b0f9e3d78e41fcb387a970b30467deacc5d7f/5c9c877fb60a65cab269af175328b6aaf16d02b8b09738923254f9986e5dc440?response-content-disposition=attachment%3B+filename*%3DUTF-8%27%27RWKV-x060-World-1B6-v2-20240208-ctx4096.pth%3B+filename%3D%22RWKV-x060-World-1B6-v2-20240208-ctx4096.pth%22%3B&Expires=1719981964&Policy=eyJTdGF0ZW1lbnQiOlt7IkNvbmRpdGlvbiI6eyJEYXRlTGVzc1RoYW4iOnsiQVdTOkVwb2NoVGltZSI6MTcxOTk4MTk2NH19LCJSZXNvdXJjZSI6Imh0dHBzOi8vY2RuLWxmcy11cy0xLmh1Z2dpbmdmYWNlLmNvL3JlcG9zLzQ4LzMwLzQ4MzA0OWJhOGVlNWQ1NTE5NmQ3NWVjMWU2MmIwZjllM2Q3OGU0MWZjYjM4N2E5NzBiMzA0NjdkZWFjYzVkN2YvNWM5Yzg3N2ZiNjBhNjVjYWIyNjlhZjE3NTMyOGI2YWFmMTZkMDJiOGIwOTczODkyMzI1NGY5OTg2ZTVkYzQ0MD9yZXNwb25zZS1jb250ZW50LWRpc3Bvc2l0aW9uPSoifV19&Signature=O97vVEehwm4y-usmSUi5jOjH5Mo3szE3u7traTqYIJfofpX82hyPyu2ZOvdFKkzTxAKW-J7eMfgt9cZVrLZLx4W43wLDeVAE-tvFGV8N5FBSqJHt6cdU5qQDks%7EdN-sdyl4P8-Es60Q9mhKbFjUNW9BFjQuUB%7EAcP3hlF2ad9l82tzOCtJwpnzA7-ynFOqcTreCiFP3albqWMe4f0-onUBfMn6xjOWA-yqWuGz9utMqzlGwFESr73HTl%7EX1Ityfv66Wh3-hN8wdFttF2Ua5p16NVt5sFb6JgGFrKvGjKo1NqOrD45hAZGuRrRjByP7GRSJDBn2PWOyzm7TEjumCDqQ__&Key-Pair-Id=K24J24Z295AEI9\n",
      "Resolving cdn-lfs-us-1.huggingface.co (cdn-lfs-us-1.huggingface.co)... 3.165.102.95, 3.165.102.112, 3.165.102.80, ...\n",
      "Connecting to cdn-lfs-us-1.huggingface.co (cdn-lfs-us-1.huggingface.co)|3.165.102.95|:443... connected.\n",
      "HTTP request sent, awaiting response... 200 OK\n",
      "Length: 3199845663 (3.0G) [binary/octet-stream]\n",
      "Saving to: ‘./.model/v6-1B6.pth’\n",
      "\n",
      "./.model/v6-1B6.pth 100%[===================>]   2.98G  20.3MB/s    in 2m 53s  \n",
      "\n",
      "2024-06-30 12:48:58 (17.6 MB/s) - ‘./.model/v6-1B6.pth’ saved [3199845663/3199845663]\n",
      "\n"
     ]
    }
   ],
   "source": [
    "!mkdir -p \"./.model\"\n",
    "!wget -nc \"https://huggingface.co/RWKV/rwkv-6-world-all-pth/resolve/main/RWKV-x060-World-1B6-v2-20240208-ctx4096.pth?download=true\" -O \"./.model/v6-1B6.pth\""
   ]
  }
 ],
 "metadata": {
  "kernelspec": {
   "display_name": "base",
   "language": "python",
   "name": "python3"
  },
  "language_info": {
   "codemirror_mode": {
    "name": "ipython",
    "version": 3
   },
   "file_extension": ".py",
   "mimetype": "text/x-python",
   "name": "python",
   "nbconvert_exporter": "python",
   "pygments_lexer": "ipython3",
   "version": "3.11.9"
  }
 },
 "nbformat": 4,
 "nbformat_minor": 2
}
