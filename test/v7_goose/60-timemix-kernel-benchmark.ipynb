{
 "cells": [
  {
   "cell_type": "markdown",
   "metadata": {},
   "source": [
    "## RWKV TMix block python / triton benchmark\n",
    "\n",
    "Benchmarking the various kernels"
   ]
  },
  {
   "cell_type": "code",
   "execution_count": 1,
   "metadata": {},
   "outputs": [
    {
     "name": "stdout",
     "output_type": "stream",
     "text": [
      "### Model filename: v7-1B4.pth\n",
      "### Model hidden_size: 2048\n"
     ]
    }
   ],
   "source": [
    "# Configure the parent path to be the proj folder\n",
    "import sys, os, torch, time\n",
    "sys.path.append('../../')\n",
    "\n",
    "# Import the block classes\n",
    "from rwkv_block.v7_goose.block.rwkv7_time_mix import RWKV7TimeMix\n",
    "\n",
    "# File to load\n",
    "MODEL_FILENAME=\"v7-1B5-world.pth\"\n",
    "\n",
    "# Run device, and run dtype to use\n",
    "RUN_DEVICE=\"cpu\"\n",
    "RUN_DTYPE=torch.bfloat16\n",
    "\n",
    "# Check for cuda device\n",
    "if torch.cuda.is_available():\n",
    "    RUN_DEVICE=\"cuda:0\"\n",
    "\n",
    "# Check if the reference weights exists\n",
    "assert os.path.exists(f\"./.model/{MODEL_FILENAME}\"), \"The reference weights does not exist. Please download it first (00-model-download.ipynb)\"\n",
    "\n",
    "# Loads the model weights\n",
    "model_weight = torch.load(f\"./.model/{MODEL_FILENAME}\", map_location='cpu', weights_only=True, mmap=True)\n",
    "\n",
    "# Model filename\n",
    "print(f\"### Model filename: {MODEL_FILENAME}\")\n",
    "\n",
    "# Lets get the hidden_size, and setup the test module\n",
    "hidden_size = model_weight['emb.weight'].shape[1]\n",
    "print(f\"### Model hidden_size: {hidden_size}\")\n",
    "\n",
    "# # List the model weights keys, and their shapes\n",
    "# print(f\"### model weights keys:\")\n",
    "# for key in model_weight:\n",
    "#     print(f\"{key}: {model_weight[key].shape} - {model_weight[key].dtype}\")\n",
    "\n",
    "# Ensure cuda path is set, get the cuda nvcc path\n",
    "os.environ['CUDA_HOME'] = \"/usr/local/cuda\""
   ]
  },
  {
   "cell_type": "code",
   "execution_count": 2,
   "metadata": {},
   "outputs": [
    {
     "name": "stdout",
     "output_type": "stream",
     "text": [
      "### Testing the tmix blocks for 10 steps\n"
     ]
    }
   ],
   "source": [
    "# Initialize the channelmix state, and x state to test\n",
    "# NOTE: The triton kernel minimum chunk size is 16, it fallsback to pytorch mode otherwise\n",
    "# we intentionally DO not use a unit of 16, so the remainder pytorch code kicks in for triton\n",
    "IN_TOKENS_LEN=8192\n",
    "x_state_0 = torch.ones(1, IN_TOKENS_LEN, hidden_size, device=RUN_DEVICE, dtype=RUN_DTYPE)\n",
    "x_state_1 = torch.ones(1, IN_TOKENS_LEN, hidden_size, device=RUN_DEVICE, dtype=RUN_DTYPE)\n",
    "x_state_2 = torch.ones(1, IN_TOKENS_LEN, hidden_size, device=RUN_DEVICE, dtype=RUN_DTYPE)\n",
    "tmix_shift_0 = torch.ones(1, hidden_size, device=RUN_DEVICE, dtype=RUN_DTYPE)\n",
    "tmix_shift_1 = torch.ones(1, hidden_size, device=RUN_DEVICE, dtype=RUN_DTYPE)\n",
    "tmix_wkv_0 = torch.ones(1, hidden_size // 64, 64, 64, device=RUN_DEVICE, dtype=torch.float)\n",
    "tmix_wkv_1 = torch.ones(1, hidden_size // 64, 64, 64, device=RUN_DEVICE, dtype=torch.float)\n",
    "\n",
    "# Iteration to test\n",
    "TEST_STEPS = 10\n",
    "\n",
    "# Slower reference implementation\n",
    "tmix_pytorch = RWKV7TimeMix({ \"num_hidden_layers\":24, \"hidden_size\":hidden_size, \"layer_id\":0, \"device\":RUN_DEVICE, \"dtype\":RUN_DTYPE, \"tmix_backend\":\"pytorch_ref\" })\n",
    "tmix_pytorch.load_from_model_state_dict(model_weight, 0)\n",
    "\n",
    "# Improved pytorch implement\n",
    "tmix_pytorch_chunk = RWKV7TimeMix({ \"num_hidden_layers\":24, \"hidden_size\":hidden_size, \"layer_id\":0, \"device\":RUN_DEVICE, \"dtype\":RUN_DTYPE, \"tmix_backend\":\"pytorch\" })\n",
    "tmix_pytorch_chunk.load_from_model_state_dict(model_weight, 0)\n",
    "\n",
    "tmix_triton = RWKV7TimeMix({ \"num_hidden_layers\":24, \"hidden_size\":hidden_size, \"layer_id\":0, \"device\":RUN_DEVICE, \"dtype\":RUN_DTYPE, \"tmix_backend\":\"triton\" })\n",
    "tmix_triton.load_from_model_state_dict(model_weight, 0)\n",
    "\n",
    "tmix_triton_bighead = RWKV7TimeMix({ \"num_hidden_layers\":24, \"hidden_size\":hidden_size, \"layer_id\":0, \"device\":RUN_DEVICE, \"dtype\":RUN_DTYPE, \"tmix_backend\":\"triton_bighead\" })\n",
    "tmix_triton_bighead.load_from_model_state_dict(model_weight, 0)\n",
    "\n",
    "tmix_cuda = RWKV7TimeMix({ \"num_hidden_layers\":24, \"hidden_size\":hidden_size, \"layer_id\":0, \"device\":RUN_DEVICE, \"dtype\":RUN_DTYPE, \"tmix_backend\":\"cuda\" })\n",
    "tmix_cuda.load_from_model_state_dict(model_weight, 0)\n",
    "\n",
    "tmix_fla = RWKV7TimeMix({ \"num_hidden_layers\":24, \"hidden_size\":hidden_size, \"layer_id\":0, \"device\":RUN_DEVICE, \"dtype\":RUN_DTYPE, \"tmix_backend\":\"fla\" })\n",
    "tmix_fla.load_from_model_state_dict(model_weight, 0)\n",
    "\n",
    "tmix_fla_fused = RWKV7TimeMix({ \"num_hidden_layers\":24, \"hidden_size\":hidden_size, \"layer_id\":0, \"device\":RUN_DEVICE, \"dtype\":RUN_DTYPE, \"tmix_backend\":\"fla_fused\" })\n",
    "tmix_fla_fused.load_from_model_state_dict(model_weight, 0)\n",
    "\n",
    "print(f\"### Testing the tmix blocks for {TEST_STEPS} steps\")"
   ]
  },
  {
   "cell_type": "code",
   "execution_count": 3,
   "metadata": {},
   "outputs": [
    {
     "name": "stdout",
     "output_type": "stream",
     "text": [
      "1 tmix_pytorch reduce-compile forward passes (warmup): 2428.707981109619 ms (cuda:0, torch.bfloat16)\n",
      "1 tmix_pytorch reduce-compile forward passes (normal): 2041.679072380066 ms (cuda:0, torch.bfloat16)\n"
     ]
    }
   ],
   "source": [
    "### TMix\n",
    "with torch.inference_mode():\n",
    "\n",
    "    # This is a warmup\n",
    "    t0 = time.time()\n",
    "    out_x = x_state_0\n",
    "    t_shift = tmix_shift_0\n",
    "    t_wkv = tmix_wkv_0\n",
    "    v_first = x_state_2\n",
    "    for i in range(TEST_STEPS):\n",
    "        out_x, t_shift, t_wkv, v_first = tmix_pytorch.forward_with_reduce_compile(x_state_1, t_shift, tmix_wkv_1, v_first)\n",
    "    t2 = time.time()\n",
    "    print(f'1 tmix_pytorch reduce-compile forward passes (warmup): {(t2-t0)*1000/TEST_STEPS} ms ({RUN_DEVICE}, {RUN_DTYPE})')\n",
    "\n",
    "    # The actual run\n",
    "    t1 = time.time()\n",
    "    out_x = x_state_0\n",
    "    t_shift = tmix_shift_0\n",
    "    t_wkv = tmix_wkv_0\n",
    "    v_first = x_state_2\n",
    "    for i in range(TEST_STEPS):\n",
    "        out_x, t_shift, t_wkv, v_first = tmix_pytorch.forward_with_reduce_compile(x_state_1, t_shift, tmix_wkv_1, v_first)\n",
    "    t2 = time.time()\n",
    "    print(f'1 tmix_pytorch reduce-compile forward passes (normal): {(t2-t1)*1000/TEST_STEPS} ms ({RUN_DEVICE}, {RUN_DTYPE})')"
   ]
  },
  {
   "cell_type": "code",
   "execution_count": 4,
   "metadata": {},
   "outputs": [
    {
     "name": "stderr",
     "output_type": "stream",
     "text": [
      "skipping cudagraphs due to mutated inputs (1 instances). Found from : \n",
      "   File \"/home/recursal/rwkv-prj/RWKV-block/test/v7_goose/../../rwkv_block/v7_goose/block/kernel/rwkv7_attn_pytorch.py\", line 197, in torch_dynamo_resume_in_rwkv7_attn_pytorch_v2_chunk_w_compile_break_at_183\n",
      "    xx[:] = (wkv_xx.to(dtype=xx.dtype) @ r.view(BATCH_SIZE,SEQ_LEN,N_HEAD,HEAD_SIZE,1)).view(BATCH_SIZE,SEQ_LEN,N_HEAD*HEAD_SIZE)\n",
      "\n"
     ]
    },
    {
     "name": "stdout",
     "output_type": "stream",
     "text": [
      "1 tmix_pytorch_chunk reduce-compile forward passes (warmup): 1136.0665798187256 ms (cuda:0, torch.bfloat16)\n",
      "1 tmix_pytorch_chunk reduce-compile forward passes (normal): 900.4284858703613 ms (cuda:0, torch.bfloat16)\n"
     ]
    }
   ],
   "source": [
    "### TMix\n",
    "with torch.inference_mode():\n",
    "\n",
    "    # This is a warmup\n",
    "    t0 = time.time()\n",
    "    out_x = x_state_0\n",
    "    t_shift = tmix_shift_0\n",
    "    t_wkv = tmix_wkv_0\n",
    "    v_first = x_state_2\n",
    "    for i in range(TEST_STEPS):\n",
    "        out_x, t_shift, t_wkv, v_first = tmix_pytorch_chunk.forward_with_reduce_compile(x_state_1, t_shift, tmix_wkv_1, v_first)\n",
    "    t2 = time.time()\n",
    "    print(f'1 tmix_pytorch_chunk reduce-compile forward passes (warmup): {(t2-t0)*1000/TEST_STEPS} ms ({RUN_DEVICE}, {RUN_DTYPE})')\n",
    "\n",
    "    # The actual run\n",
    "    t1 = time.time()\n",
    "    out_x = x_state_0\n",
    "    t_shift = tmix_shift_0\n",
    "    t_wkv = tmix_wkv_0\n",
    "    v_first = x_state_2\n",
    "    for i in range(TEST_STEPS):\n",
    "        out_x, t_shift, t_wkv, v_first = tmix_pytorch_chunk.forward_with_reduce_compile(x_state_1, t_shift, tmix_wkv_1, v_first)\n",
    "    t2 = time.time()\n",
    "    print(f'1 tmix_pytorch_chunk reduce-compile forward passes (normal): {(t2-t1)*1000/TEST_STEPS} ms ({RUN_DEVICE}, {RUN_DTYPE})')"
   ]
  },
  {
   "cell_type": "code",
   "execution_count": 5,
   "metadata": {},
   "outputs": [
    {
     "name": "stdout",
     "output_type": "stream",
     "text": [
      "1 tmix_triton reduce-compile forward passes (warmup): 166.37885570526123 ms (cuda:0, torch.bfloat16)\n",
      "1 tmix_triton reduce-compile forward passes (normal): 18.13671588897705 ms (cuda:0, torch.bfloat16)\n"
     ]
    }
   ],
   "source": [
    "### TMix\n",
    "with torch.inference_mode():\n",
    "\n",
    "    # This is a warmup\n",
    "    t0 = time.time()\n",
    "    out_x = x_state_0\n",
    "    t_shift = tmix_shift_0\n",
    "    t_wkv = tmix_wkv_0\n",
    "    v_first = x_state_2\n",
    "    for i in range(TEST_STEPS):\n",
    "        out_x, t_shift, t_wkv, v_first = tmix_triton.forward_with_reduce_compile(x_state_1, t_shift, tmix_wkv_1, v_first)\n",
    "    t2 = time.time()\n",
    "    print(f'1 tmix_triton reduce-compile forward passes (warmup): {(t2-t0)*1000/TEST_STEPS} ms ({RUN_DEVICE}, {RUN_DTYPE})')\n",
    "\n",
    "    # The actual run\n",
    "    t1 = time.time()\n",
    "    out_x = x_state_0\n",
    "    t_shift = tmix_shift_0\n",
    "    t_wkv = tmix_wkv_0\n",
    "    v_first = x_state_2\n",
    "    for i in range(TEST_STEPS):\n",
    "        out_x, t_shift, t_wkv, v_first = tmix_triton.forward_with_reduce_compile(x_state_1, t_shift, tmix_wkv_1, v_first)\n",
    "    t2 = time.time()\n",
    "    print(f'1 tmix_triton reduce-compile forward passes (normal): {(t2-t1)*1000/TEST_STEPS} ms ({RUN_DEVICE}, {RUN_DTYPE})')"
   ]
  },
  {
   "cell_type": "code",
   "execution_count": 6,
   "metadata": {},
   "outputs": [
    {
     "name": "stdout",
     "output_type": "stream",
     "text": [
      "1 tmix_triton_bighead reduce-compile forward passes (warmup): 184.83824729919434 ms (cuda:0, torch.bfloat16)\n",
      "1 tmix_triton_bighead reduce-compile forward passes (normal): 18.22197437286377 ms (cuda:0, torch.bfloat16)\n"
     ]
    }
   ],
   "source": [
    "### TMix\n",
    "with torch.inference_mode():\n",
    "\n",
    "    # This is a warmup\n",
    "    t0 = time.time()\n",
    "    out_x = x_state_0\n",
    "    t_shift = tmix_shift_0\n",
    "    t_wkv = tmix_wkv_0\n",
    "    v_first = x_state_2\n",
    "    for i in range(TEST_STEPS):\n",
    "        out_x, t_shift, t_wkv, v_first = tmix_triton_bighead.forward_with_reduce_compile(x_state_1, t_shift, tmix_wkv_1, v_first)\n",
    "    t2 = time.time()\n",
    "    print(f'1 tmix_triton_bighead reduce-compile forward passes (warmup): {(t2-t0)*1000/TEST_STEPS} ms ({RUN_DEVICE}, {RUN_DTYPE})')\n",
    "\n",
    "    # The actual run\n",
    "    t1 = time.time()\n",
    "    out_x = x_state_0\n",
    "    t_shift = tmix_shift_0\n",
    "    t_wkv = tmix_wkv_0\n",
    "    v_first = x_state_2\n",
    "    for i in range(TEST_STEPS):\n",
    "        out_x, t_shift, t_wkv, v_first = tmix_triton_bighead.forward_with_reduce_compile(x_state_1, t_shift, tmix_wkv_1, v_first)\n",
    "    t2 = time.time()\n",
    "    print(f'1 tmix_triton_bighead reduce-compile forward passes (normal): {(t2-t1)*1000/TEST_STEPS} ms ({RUN_DEVICE}, {RUN_DTYPE})')"
   ]
  },
  {
   "cell_type": "code",
   "execution_count": 7,
   "metadata": {},
   "outputs": [
    {
     "name": "stderr",
     "output_type": "stream",
     "text": [
      "Using /home/recursal/.cache/torch_extensions/py312_cu121 as PyTorch extensions root...\n",
      "Detected CUDA files, patching ldflags\n",
      "Emitting ninja build file /home/recursal/.cache/torch_extensions/py312_cu121/state_wind_backstepping/build.ninja...\n",
      "/home/recursal/miniconda3/envs/py-3-12/lib/python3.12/site-packages/torch/utils/cpp_extension.py:1964: UserWarning: TORCH_CUDA_ARCH_LIST is not set, all archs for visible cards are included for compilation. \n",
      "If this is not desired, please set os.environ['TORCH_CUDA_ARCH_LIST'].\n",
      "  warnings.warn(\n",
      "Building extension module state_wind_backstepping...\n",
      "Allowing ninja to set a default number of workers... (overridable by setting the environment variable MAX_JOBS=N)\n",
      "Loading extension module state_wind_backstepping...\n"
     ]
    },
    {
     "name": "stdout",
     "output_type": "stream",
     "text": [
      "ninja: no work to do.\n",
      "1 tmix_cuda reduce-compile forward passes (warmup): 102.49412059783936 ms (cuda:0, torch.bfloat16)\n",
      "1 tmix_cuda reduce-compile forward passes (normal): 30.61971664428711 ms (cuda:0, torch.bfloat16)\n"
     ]
    }
   ],
   "source": [
    "### TMix\n",
    "with torch.inference_mode():\n",
    "\n",
    "    # This is a warmup\n",
    "    t0 = time.time()\n",
    "    out_x = x_state_0\n",
    "    t_shift = tmix_shift_0\n",
    "    t_wkv = tmix_wkv_0\n",
    "    v_first = x_state_2\n",
    "    for i in range(TEST_STEPS):\n",
    "        out_x, t_shift, t_wkv, v_first = tmix_cuda.forward_with_reduce_compile(x_state_1, t_shift, tmix_wkv_1, v_first)\n",
    "    t2 = time.time()\n",
    "    print(f'1 tmix_cuda reduce-compile forward passes (warmup): {(t2-t0)*1000/TEST_STEPS} ms ({RUN_DEVICE}, {RUN_DTYPE})')\n",
    "\n",
    "    # The actual run\n",
    "    t1 = time.time()\n",
    "    out_x = x_state_0\n",
    "    t_shift = tmix_shift_0\n",
    "    t_wkv = tmix_wkv_0\n",
    "    v_first = x_state_2\n",
    "    for i in range(TEST_STEPS):\n",
    "        out_x, t_shift, t_wkv, v_first = tmix_cuda.forward_with_reduce_compile(x_state_1, t_shift, tmix_wkv_1, v_first)\n",
    "    t2 = time.time()\n",
    "    print(f'1 tmix_cuda reduce-compile forward passes (normal): {(t2-t1)*1000/TEST_STEPS} ms ({RUN_DEVICE}, {RUN_DTYPE})')"
   ]
  },
  {
   "cell_type": "code",
   "execution_count": 8,
   "metadata": {},
   "outputs": [
    {
     "name": "stderr",
     "output_type": "stream",
     "text": [
      "/home/recursal/miniconda3/envs/py-3-12/lib/python3.12/site-packages/tqdm/auto.py:21: TqdmWarning: IProgress not found. Please update jupyter and ipywidgets. See https://ipywidgets.readthedocs.io/en/stable/user_install.html\n",
      "  from .autonotebook import tqdm as notebook_tqdm\n"
     ]
    },
    {
     "name": "stdout",
     "output_type": "stream",
     "text": [
      "1 tmix_fla reduce-compile forward passes (warmup): 2700.0231742858887 ms (cuda:0, torch.bfloat16)\n",
      "1 tmix_fla reduce-compile forward passes (normal): 19.12992000579834 ms (cuda:0, torch.bfloat16)\n"
     ]
    }
   ],
   "source": [
    "### TMix\n",
    "with torch.inference_mode():\n",
    "\n",
    "    # This is a warmup\n",
    "    t0 = time.time()\n",
    "    out_x = x_state_0\n",
    "    t_shift = tmix_shift_0\n",
    "    t_wkv = tmix_wkv_0\n",
    "    v_first = x_state_2\n",
    "    for i in range(TEST_STEPS):\n",
    "        out_x, t_shift, t_wkv, v_first = tmix_fla.forward_with_reduce_compile(x_state_1, t_shift, tmix_wkv_1, v_first)\n",
    "    t2 = time.time()\n",
    "    print(f'1 tmix_fla reduce-compile forward passes (warmup): {(t2-t0)*1000/TEST_STEPS} ms ({RUN_DEVICE}, {RUN_DTYPE})')\n",
    "\n",
    "    # The actual run\n",
    "    t1 = time.time()\n",
    "    out_x = x_state_0\n",
    "    t_shift = tmix_shift_0\n",
    "    t_wkv = tmix_wkv_0\n",
    "    v_first = x_state_2\n",
    "    for i in range(TEST_STEPS):\n",
    "        out_x, t_shift, t_wkv, v_first = tmix_fla.forward_with_reduce_compile(x_state_1, t_shift, tmix_wkv_1, v_first)\n",
    "    t2 = time.time()\n",
    "    print(f'1 tmix_fla reduce-compile forward passes (normal): {(t2-t1)*1000/TEST_STEPS} ms ({RUN_DEVICE}, {RUN_DTYPE})')"
   ]
  },
  {
   "cell_type": "code",
   "execution_count": 9,
   "metadata": {},
   "outputs": [
    {
     "name": "stdout",
     "output_type": "stream",
     "text": [
      "1 tmix_fla_fused reduce-compile forward passes (warmup): 1176.1919736862183 ms (cuda:0, torch.bfloat16)\n",
      "1 tmix_fla_fused reduce-compile forward passes (normal): 21.772289276123047 ms (cuda:0, torch.bfloat16)\n"
     ]
    }
   ],
   "source": [
    "### TMix\n",
    "with torch.inference_mode():\n",
    "\n",
    "    # This is a warmup\n",
    "    t0 = time.time()\n",
    "    out_x = x_state_0\n",
    "    t_shift = tmix_shift_0\n",
    "    t_wkv = tmix_wkv_0\n",
    "    v_first = x_state_2\n",
    "    for i in range(TEST_STEPS):\n",
    "        out_x, t_shift, t_wkv, v_first = tmix_fla_fused.forward_with_reduce_compile(x_state_1, t_shift, tmix_wkv_1, v_first)\n",
    "    t2 = time.time()\n",
    "    print(f'1 tmix_fla_fused reduce-compile forward passes (warmup): {(t2-t0)*1000/TEST_STEPS} ms ({RUN_DEVICE}, {RUN_DTYPE})')\n",
    "\n",
    "    # The actual run\n",
    "    t1 = time.time()\n",
    "    out_x = x_state_0\n",
    "    t_shift = tmix_shift_0\n",
    "    t_wkv = tmix_wkv_0\n",
    "    v_first = x_state_2\n",
    "    for i in range(TEST_STEPS):\n",
    "        out_x, t_shift, t_wkv, v_first = tmix_fla_fused.forward_with_reduce_compile(x_state_1, t_shift, tmix_wkv_1, v_first)\n",
    "    t2 = time.time()\n",
    "    print(f'1 tmix_fla_fused reduce-compile forward passes (normal): {(t2-t1)*1000/TEST_STEPS} ms ({RUN_DEVICE}, {RUN_DTYPE})')"
   ]
  }
 ],
 "metadata": {
  "kernelspec": {
   "display_name": "py-3-12",
   "language": "python",
   "name": "python3"
  },
  "language_info": {
   "codemirror_mode": {
    "name": "ipython",
    "version": 3
   },
   "file_extension": ".py",
   "mimetype": "text/x-python",
   "name": "python",
   "nbconvert_exporter": "python",
   "pygments_lexer": "ipython3",
   "version": "3.12.8"
  }
 },
 "nbformat": 4,
 "nbformat_minor": 2
}
