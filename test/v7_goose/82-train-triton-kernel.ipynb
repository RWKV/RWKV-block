{
 "cells": [
  {
   "cell_type": "markdown",
   "metadata": {},
   "source": [
    "# Training validation\n",
    "\n",
    "Triton based training, for loss curve comparision / validation between the various kernel implements"
   ]
  },
  {
   "cell_type": "code",
   "execution_count": null,
   "metadata": {},
   "outputs": [],
   "source": [
    "# Configure the parent path to be the proj folder\n",
    "import sys, os, torch, time\n",
    "sys.path.append('../../')\n",
    "sys.path.append('../../test')\n",
    "\n",
    "# Memory segmenting fix?\n",
    "os.environ[\"PYTORCH_CUDA_ALLOC_CONF\"] = \"expandable_segments:True\"\n",
    "\n",
    "# Import the model classes\n",
    "from rwkv_block.v7_goose.model.rwkv7_goose_model import RWKV7GooseModel\n",
    "from trainer.SimpleTestTrainer import SimpleTestTrainer\n",
    "\n",
    "# Device to run on\n",
    "RUN_DEVICE=\"cuda:0\"\n",
    "\n",
    "# If multiple cuda devices are available\n",
    "# we use the respective device, so that I can run multiple notebooks in parallel\n",
    "#\n",
    "# Comment out this logic if you intend to manually set the device\n",
    "if torch.cuda.device_count() >= 8:\n",
    "    RUN_DEVICE=\"cuda:1\"\n",
    "\n",
    "# Training batch size\n",
    "BATCH_SIZE = 2\n",
    "\n",
    "# Model shape and size\n",
    "LAYER_COUNT = 12\n",
    "DIM_SIZE = 512\n",
    "TMIX_BACKEND=\"triton\"\n",
    "\n",
    "# Create and initalize the model\n",
    "model = RWKV7GooseModel({\n",
    "    \"n_layer\": LAYER_COUNT,\n",
    "    \"n_dim\": DIM_SIZE,\n",
    "    \"tmix_backend\": TMIX_BACKEND,\n",
    "    \"device\": RUN_DEVICE,\n",
    "    \"dtype\": \"bfloat16\",\n",
    "    \"n_vocab\": 50432\n",
    "})\n",
    "model.init_parameters()\n",
    "\n",
    "# Setup the trainer\n",
    "trainer = SimpleTestTrainer(model, device=RUN_DEVICE, batch_size=BATCH_SIZE)\n",
    "\n",
    "# Trigger the train process\n",
    "trainer.train()"
   ]
  }
 ],
 "metadata": {
  "kernelspec": {
   "display_name": "Python [conda env:py-3-12]",
   "language": "python",
   "name": "conda-env-py-3-12-py"
  },
  "language_info": {
   "codemirror_mode": {
    "name": "ipython",
    "version": 3
   },
   "file_extension": ".py",
   "mimetype": "text/x-python",
   "name": "python",
   "nbconvert_exporter": "python",
   "pygments_lexer": "ipython3",
   "version": "3.12.8"
  }
 },
 "nbformat": 4,
 "nbformat_minor": 4
}
