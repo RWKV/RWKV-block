{
 "cells": [
  {
   "cell_type": "markdown",
   "metadata": {},
   "source": [
    "# Downloads the reference 1.4B model\n",
    "\n",
    "Run this before any other notebooks"
   ]
  },
  {
   "cell_type": "code",
   "execution_count": 1,
   "metadata": {},
   "outputs": [
    {
     "name": "stdout",
     "output_type": "stream",
     "text": [
      "--2024-12-21 17:04:56--  https://huggingface.co/BlinkDL/rwkv-7-pile/resolve/main/RWKV-x070-Pile-1.47B-20241210-ctx4096.pth\n",
      "Resolving huggingface.co (huggingface.co)... 108.138.246.85, 108.138.246.79, 108.138.246.67, ...\n",
      "Connecting to huggingface.co (huggingface.co)|108.138.246.85|:443... connected.\n",
      "HTTP request sent, awaiting response... 302 Found\n",
      "Location: https://cdn-lfs-us-1.hf.co/repos/70/05/700586f8f20116e671d5e317e508dc34edbeca813fdb4c9da02c5e1f9f4f7b98/2b5dc71a921e59d2eaa947c8276d4d5fac873ea12dad47f9f5a8390ff0d8e507?response-content-disposition=inline%3B+filename*%3DUTF-8%27%27RWKV-x070-Pile-1.47B-20241210-ctx4096.pth%3B+filename%3D%22RWKV-x070-Pile-1.47B-20241210-ctx4096.pth%22%3B&Expires=1735088696&Policy=eyJTdGF0ZW1lbnQiOlt7IkNvbmRpdGlvbiI6eyJEYXRlTGVzc1RoYW4iOnsiQVdTOkVwb2NoVGltZSI6MTczNTA4ODY5Nn19LCJSZXNvdXJjZSI6Imh0dHBzOi8vY2RuLWxmcy11cy0xLmhmLmNvL3JlcG9zLzcwLzA1LzcwMDU4NmY4ZjIwMTE2ZTY3MWQ1ZTMxN2U1MDhkYzM0ZWRiZWNhODEzZmRiNGM5ZGEwMmM1ZTFmOWY0ZjdiOTgvMmI1ZGM3MWE5MjFlNTlkMmVhYTk0N2M4Mjc2ZDRkNWZhYzg3M2VhMTJkYWQ0N2Y5ZjVhODM5MGZmMGQ4ZTUwNz9yZXNwb25zZS1jb250ZW50LWRpc3Bvc2l0aW9uPSoifV19&Signature=id0mD67GzUvWe-BsjUwhcQThvrqlunxoZuOxoRcpv1Iknceb3suupxrWq7YDep2BFCL-q3A7okNf4i8yG1OFl8lRLhm8kpLzM1KAZEiaZcCgnxpDe-BU9pndQX2-QdCNyI0L7nmcVEtP3jne5rnEkC17JU1HUydGT5OcPRMCPgTUEVP7tlZDtud5ryuP7HjAHxXiuIDBvCDWGlKzQIjPeCV4jni-b1eCmHncUkfzL360z6mloL2MNvttsvsZDTpLDFS%7Ek4HqzIL4eOTvAOU2wm9ZmuzoxrVsCJkl1k-V5eF8NaUcuDbQtC7EQpQqdgPBwanLMfI4jbiooPapYwb6Og__&Key-Pair-Id=K24J24Z295AEI9 [following]\n",
      "--2024-12-21 17:04:56--  https://cdn-lfs-us-1.hf.co/repos/70/05/700586f8f20116e671d5e317e508dc34edbeca813fdb4c9da02c5e1f9f4f7b98/2b5dc71a921e59d2eaa947c8276d4d5fac873ea12dad47f9f5a8390ff0d8e507?response-content-disposition=inline%3B+filename*%3DUTF-8%27%27RWKV-x070-Pile-1.47B-20241210-ctx4096.pth%3B+filename%3D%22RWKV-x070-Pile-1.47B-20241210-ctx4096.pth%22%3B&Expires=1735088696&Policy=eyJTdGF0ZW1lbnQiOlt7IkNvbmRpdGlvbiI6eyJEYXRlTGVzc1RoYW4iOnsiQVdTOkVwb2NoVGltZSI6MTczNTA4ODY5Nn19LCJSZXNvdXJjZSI6Imh0dHBzOi8vY2RuLWxmcy11cy0xLmhmLmNvL3JlcG9zLzcwLzA1LzcwMDU4NmY4ZjIwMTE2ZTY3MWQ1ZTMxN2U1MDhkYzM0ZWRiZWNhODEzZmRiNGM5ZGEwMmM1ZTFmOWY0ZjdiOTgvMmI1ZGM3MWE5MjFlNTlkMmVhYTk0N2M4Mjc2ZDRkNWZhYzg3M2VhMTJkYWQ0N2Y5ZjVhODM5MGZmMGQ4ZTUwNz9yZXNwb25zZS1jb250ZW50LWRpc3Bvc2l0aW9uPSoifV19&Signature=id0mD67GzUvWe-BsjUwhcQThvrqlunxoZuOxoRcpv1Iknceb3suupxrWq7YDep2BFCL-q3A7okNf4i8yG1OFl8lRLhm8kpLzM1KAZEiaZcCgnxpDe-BU9pndQX2-QdCNyI0L7nmcVEtP3jne5rnEkC17JU1HUydGT5OcPRMCPgTUEVP7tlZDtud5ryuP7HjAHxXiuIDBvCDWGlKzQIjPeCV4jni-b1eCmHncUkfzL360z6mloL2MNvttsvsZDTpLDFS%7Ek4HqzIL4eOTvAOU2wm9ZmuzoxrVsCJkl1k-V5eF8NaUcuDbQtC7EQpQqdgPBwanLMfI4jbiooPapYwb6Og__&Key-Pair-Id=K24J24Z295AEI9\n",
      "Resolving cdn-lfs-us-1.hf.co (cdn-lfs-us-1.hf.co)... 18.173.121.55, 18.173.121.3, 18.173.121.32, ...\n",
      "Connecting to cdn-lfs-us-1.hf.co (cdn-lfs-us-1.hf.co)|18.173.121.55|:443... connected.\n",
      "HTTP request sent, awaiting response... 200 OK\n",
      "Length: 2930288193 (2.7G) [binary/octet-stream]\n",
      "Saving to: ‘./.model/v7-1B4.pth’\n",
      "\n",
      "./.model/v7-1B4.pth 100%[===================>]   2.73G  37.8MB/s    in 74s     \n",
      "\n",
      "2024-12-21 17:06:10 (38.0 MB/s) - ‘./.model/v7-1B4.pth’ saved [2930288193/2930288193]\n",
      "\n"
     ]
    }
   ],
   "source": [
    "!mkdir -p \"./.model\"\n",
    "!wget -nc \"https://huggingface.co/BlinkDL/rwkv-7-pile/resolve/main/RWKV-x070-Pile-1.47B-20241210-ctx4096.pth\" -O \"./.model/v7-1B4.pth\""
   ]
  }
 ],
 "metadata": {
  "kernelspec": {
   "display_name": "py-3-12",
   "language": "python",
   "name": "python3"
  },
  "language_info": {
   "codemirror_mode": {
    "name": "ipython",
    "version": 3
   },
   "file_extension": ".py",
   "mimetype": "text/x-python",
   "name": "python",
   "nbconvert_exporter": "python",
   "pygments_lexer": "ipython3",
   "version": "3.12.8"
  }
 },
 "nbformat": 4,
 "nbformat_minor": 2
}
