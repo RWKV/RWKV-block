{
 "cells": [
  {
   "cell_type": "markdown",
   "metadata": {},
   "source": [
    "# Downloads the reference 1.4B model\n",
    "\n",
    "Run this before any other notebooks"
   ]
  },
  {
   "cell_type": "code",
   "execution_count": null,
   "metadata": {},
   "outputs": [
    {
     "name": "stdout",
     "output_type": "stream",
     "text": [
      "--2025-02-09 20:35:05--  https://huggingface.co/BlinkDL/rwkv-7-world/resolve/0629eb5928f9e929b27d1e95dd57d124d249ce6b/RWKV-x070-World-1.5B-v3-20250127-ctx4096.pth\n",
      "Resolving huggingface.co (huggingface.co)... 18.155.192.4, 18.155.192.51, 18.155.192.67, ...\n",
      "Connecting to huggingface.co (huggingface.co)|18.155.192.4|:443... connected.\n",
      "HTTP request sent, awaiting response... 302 Found\n",
      "Location: https://cdn-lfs-us-1.hf.co/repos/b1/df/b1df8556bb65fa6a1648eac71d7328bc21df6d2bc9a347045abf70b0038970f6/23e13ff62ac6f80b28910ffc230324939e80ddb00b98f892a5951c0da071e700?response-content-disposition=inline%3B+filename*%3DUTF-8%27%27RWKV-x070-World-1.5B-v3-20250127-ctx4096.pth%3B+filename%3D%22RWKV-x070-World-1.5B-v3-20250127-ctx4096.pth%22%3B&Expires=1739136905&Policy=eyJTdGF0ZW1lbnQiOlt7IkNvbmRpdGlvbiI6eyJEYXRlTGVzc1RoYW4iOnsiQVdTOkVwb2NoVGltZSI6MTczOTEzNjkwNX19LCJSZXNvdXJjZSI6Imh0dHBzOi8vY2RuLWxmcy11cy0xLmhmLmNvL3JlcG9zL2IxL2RmL2IxZGY4NTU2YmI2NWZhNmExNjQ4ZWFjNzFkNzMyOGJjMjFkZjZkMmJjOWEzNDcwNDVhYmY3MGIwMDM4OTcwZjYvMjNlMTNmZjYyYWM2ZjgwYjI4OTEwZmZjMjMwMzI0OTM5ZTgwZGRiMDBiOThmODkyYTU5NTFjMGRhMDcxZTcwMD9yZXNwb25zZS1jb250ZW50LWRpc3Bvc2l0aW9uPSoifV19&Signature=G93YLf-xdXY1jW8Cr8m1T4vDDyVsGWxcO6lvCYiTujTJYNoLHuFimf%7EaYOYUxlW9xNiyrEf1vpHpPMI0hVj57JBPRkxBacTbRW5VQcatD76PxSw4gwEJst7tcecndB1RQpQb4SA47XGbCnMVr3EvHTJK5B-lXEGiFIRknP1xs2LDNDLEhQaRPPtNlJL0hr3aBrRMTplZGRdrSKvVgZih9fJ-Uu-ljUKVUdidjo6T3PiveavgZ3uoY2WmZJM8G9fmNMkiYppUb-u%7EsrINZXH2v7j3jRdepo9ugCokene1LAdZoZd%7EN2aPq1BZ1Yv0FsebFtsM0HnR3dvc2F-2Sa2yyg__&Key-Pair-Id=K24J24Z295AEI9 [following]\n",
      "--2025-02-09 20:35:05--  https://cdn-lfs-us-1.hf.co/repos/b1/df/b1df8556bb65fa6a1648eac71d7328bc21df6d2bc9a347045abf70b0038970f6/23e13ff62ac6f80b28910ffc230324939e80ddb00b98f892a5951c0da071e700?response-content-disposition=inline%3B+filename*%3DUTF-8%27%27RWKV-x070-World-1.5B-v3-20250127-ctx4096.pth%3B+filename%3D%22RWKV-x070-World-1.5B-v3-20250127-ctx4096.pth%22%3B&Expires=1739136905&Policy=eyJTdGF0ZW1lbnQiOlt7IkNvbmRpdGlvbiI6eyJEYXRlTGVzc1RoYW4iOnsiQVdTOkVwb2NoVGltZSI6MTczOTEzNjkwNX19LCJSZXNvdXJjZSI6Imh0dHBzOi8vY2RuLWxmcy11cy0xLmhmLmNvL3JlcG9zL2IxL2RmL2IxZGY4NTU2YmI2NWZhNmExNjQ4ZWFjNzFkNzMyOGJjMjFkZjZkMmJjOWEzNDcwNDVhYmY3MGIwMDM4OTcwZjYvMjNlMTNmZjYyYWM2ZjgwYjI4OTEwZmZjMjMwMzI0OTM5ZTgwZGRiMDBiOThmODkyYTU5NTFjMGRhMDcxZTcwMD9yZXNwb25zZS1jb250ZW50LWRpc3Bvc2l0aW9uPSoifV19&Signature=G93YLf-xdXY1jW8Cr8m1T4vDDyVsGWxcO6lvCYiTujTJYNoLHuFimf%7EaYOYUxlW9xNiyrEf1vpHpPMI0hVj57JBPRkxBacTbRW5VQcatD76PxSw4gwEJst7tcecndB1RQpQb4SA47XGbCnMVr3EvHTJK5B-lXEGiFIRknP1xs2LDNDLEhQaRPPtNlJL0hr3aBrRMTplZGRdrSKvVgZih9fJ-Uu-ljUKVUdidjo6T3PiveavgZ3uoY2WmZJM8G9fmNMkiYppUb-u%7EsrINZXH2v7j3jRdepo9ugCokene1LAdZoZd%7EN2aPq1BZ1Yv0FsebFtsM0HnR3dvc2F-2Sa2yyg__&Key-Pair-Id=K24J24Z295AEI9\n",
      "Resolving cdn-lfs-us-1.hf.co (cdn-lfs-us-1.hf.co)... 18.173.121.63, 18.173.121.32, 18.173.121.55, ...\n",
      "Connecting to cdn-lfs-us-1.hf.co (cdn-lfs-us-1.hf.co)|18.173.121.63|:443... connected.\n",
      "HTTP request sent, awaiting response... 200 OK\n",
      "Length: 3055062345 (2.8G) [binary/octet-stream]\n",
      "Saving to: ‘./.model/v7-1B4-world.pth’\n",
      "\n",
      "el/v7-1B4-world.pth  29%[====>               ] 851.51M  39.8MB/s    eta 52s    ^C\n"
     ]
    }
   ],
   "source": [
    "!mkdir -p \"./.model\"\n",
    "!wget -nc \"https://huggingface.co/BlinkDL/rwkv-7-world/resolve/0629eb5928f9e929b27d1e95dd57d124d249ce6b/RWKV-x070-World-1.5B-v3-20250127-ctx4096.pth\" -O \"./.model/v7-1B5-world.pth\""
   ]
  }
 ],
 "metadata": {
  "kernelspec": {
   "display_name": "py-3-12",
   "language": "python",
   "name": "python3"
  },
  "language_info": {
   "codemirror_mode": {
    "name": "ipython",
    "version": 3
   },
   "file_extension": ".py",
   "mimetype": "text/x-python",
   "name": "python",
   "nbconvert_exporter": "python",
   "pygments_lexer": "ipython3",
   "version": "3.12.8"
  }
 },
 "nbformat": 4,
 "nbformat_minor": 2
}
