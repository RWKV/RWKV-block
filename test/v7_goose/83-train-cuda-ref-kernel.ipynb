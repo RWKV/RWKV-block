{
 "cells": [
  {
   "cell_type": "markdown",
   "metadata": {},
   "source": [
    "# Training validation\n",
    "\n",
    "CUDA based training, for loss curve comparision / validation between the various kernel implements"
   ]
  },
  {
   "cell_type": "code",
   "execution_count": 1,
   "metadata": {},
   "outputs": [
    {
     "name": "stderr",
     "output_type": "stream",
     "text": [
      "/home/recursal/miniconda3/envs/py-3-12/lib/python3.12/site-packages/tqdm/auto.py:21: TqdmWarning: IProgress not found. Please update jupyter and ipywidgets. See https://ipywidgets.readthedocs.io/en/stable/user_install.html\n",
      "  from .autonotebook import tqdm as notebook_tqdm\n"
     ]
    },
    {
     "name": "stdout",
     "output_type": "stream",
     "text": [
      "---------------------------------------------\n",
      "[SimpleTestTrainer] Initializing the trainer for:  RWKV-Block.SimpleTestTrainer\n",
      "- hf_dataset:          recursal/SuperWiki-Tiny\n",
      "- dataset_ctx_length:  4096\n",
      "- dataset_min_length:  4096\n",
      "- tokenizer_name:      EleutherAI/gpt-neox-20b\n",
      "- batch_size:          4\n",
      "- learning_rate:       0.001\n",
      "- num_epochs:          1\n",
      "---------------------------------------------\n",
      "[SimpleTestTrainer] Loading the tokenizer:  EleutherAI/gpt-neox-20b ...\n",
      "[SimpleTestTrainer] Loading the dataset:  recursal/SuperWiki-Tiny ...\n",
      "[SimpleTestTrainer] Preparing the training dataset...\n"
     ]
    },
    {
     "name": "stderr",
     "output_type": "stream",
     "text": [
      "Failed to detect the name of this notebook, you can set it manually with the WANDB_NOTEBOOK_NAME environment variable to enable code saving.\n",
      "\u001b[34m\u001b[1mwandb\u001b[0m: Currently logged in as: \u001b[33mpicocreator\u001b[0m (\u001b[33mrwkv-x-dev\u001b[0m). Use \u001b[1m`wandb login --relogin`\u001b[0m to force relogin\n",
      "\u001b[34m\u001b[1mwandb\u001b[0m: Using wandb-core as the SDK backend.  Please refer to https://wandb.me/wandb-core for more information.\n"
     ]
    },
    {
     "name": "stdout",
     "output_type": "stream",
     "text": [
      "[SimpleTestTrainer] Training dataset size:    718044\n",
      "[SimpleTestTrainer] Validation dataset size:  719\n",
      "[SimpleTestTrainer] Preparing the data loaders...\n",
      "[SimpleTestTrainer] Training batch count:    50000\n",
      "[SimpleTestTrainer] Validation batch count:  179\n",
      "[SimpleTestTrainer] Setting up the optimizer, loss function...\n",
      "[SimpleTestTrainer] Initializing wandb...\n",
      "[SimpleTestTrainer] wandb is logged in.\n"
     ]
    },
    {
     "data": {
      "text/html": [
       "Tracking run with wandb version 0.19.3"
      ],
      "text/plain": [
       "<IPython.core.display.HTML object>"
      ]
     },
     "metadata": {},
     "output_type": "display_data"
    },
    {
     "data": {
      "text/html": [
       "Run data is saved locally in <code>/home/recursal/rwkv-prj/RWKV-block/test/v7_goose/wandb/run-20250119_172647-xyn71hie</code>"
      ],
      "text/plain": [
       "<IPython.core.display.HTML object>"
      ]
     },
     "metadata": {},
     "output_type": "display_data"
    },
    {
     "data": {
      "text/html": [
       "Syncing run <strong><a href='https://wandb.ai/rwkv-x-dev/RWKV-Block.SimpleTestTrainer/runs/xyn71hie' target=\"_blank\">sandy-universe-105</a></strong> to <a href='https://wandb.ai/rwkv-x-dev/RWKV-Block.SimpleTestTrainer' target=\"_blank\">Weights & Biases</a> (<a href='https://wandb.me/developer-guide' target=\"_blank\">docs</a>)<br>"
      ],
      "text/plain": [
       "<IPython.core.display.HTML object>"
      ]
     },
     "metadata": {},
     "output_type": "display_data"
    },
    {
     "data": {
      "text/html": [
       " View project at <a href='https://wandb.ai/rwkv-x-dev/RWKV-Block.SimpleTestTrainer' target=\"_blank\">https://wandb.ai/rwkv-x-dev/RWKV-Block.SimpleTestTrainer</a>"
      ],
      "text/plain": [
       "<IPython.core.display.HTML object>"
      ]
     },
     "metadata": {},
     "output_type": "display_data"
    },
    {
     "data": {
      "text/html": [
       " View run at <a href='https://wandb.ai/rwkv-x-dev/RWKV-Block.SimpleTestTrainer/runs/xyn71hie' target=\"_blank\">https://wandb.ai/rwkv-x-dev/RWKV-Block.SimpleTestTrainer/runs/xyn71hie</a>"
      ],
      "text/plain": [
       "<IPython.core.display.HTML object>"
      ]
     },
     "metadata": {},
     "output_type": "display_data"
    },
    {
     "name": "stdout",
     "output_type": "stream",
     "text": [
      "[SimpleTestTrainer] Initialization complete.\n",
      "---------------------------------------------\n",
      "Epoch 1/1\n"
     ]
    },
    {
     "name": "stderr",
     "output_type": "stream",
     "text": [
      "Training:   0%|                                                                                                                                                           | 0/50000 [00:00<?, ?it/s]"
     ]
    },
    {
     "name": "stdout",
     "output_type": "stream",
     "text": [
      "[WARNING] Reference CUDA kernel does not support input RWKV state, and is used only for training/validaiton purposes\n"
     ]
    },
    {
     "name": "stderr",
     "output_type": "stream",
     "text": [
      "Using /home/recursal/.cache/torch_extensions/py312_cu121 as PyTorch extensions root...\n",
      "Detected CUDA files, patching ldflags\n",
      "Emitting ninja build file /home/recursal/.cache/torch_extensions/py312_cu121/wind_backstepping/build.ninja...\n",
      "/home/recursal/miniconda3/envs/py-3-12/lib/python3.12/site-packages/torch/utils/cpp_extension.py:1964: UserWarning: TORCH_CUDA_ARCH_LIST is not set, all archs for visible cards are included for compilation. \n",
      "If this is not desired, please set os.environ['TORCH_CUDA_ARCH_LIST'].\n",
      "  warnings.warn(\n",
      "Building extension module wind_backstepping...\n",
      "Allowing ninja to set a default number of workers... (overridable by setting the environment variable MAX_JOBS=N)\n"
     ]
    },
    {
     "name": "stdout",
     "output_type": "stream",
     "text": [
      "ninja: no work to do.\n"
     ]
    },
    {
     "name": "stderr",
     "output_type": "stream",
     "text": [
      "Loading extension module wind_backstepping...\n",
      "Training:   4%|████▉                                                                                                                     | 2000/50000 [18:06<6:55:38,  1.92it/s, step_val_loss=2.14]IOPub message rate exceeded.\n",
      "The Jupyter server will temporarily stop sending output\n",
      "to the client in order to avoid crashing it.\n",
      "To change this limit, set the config variable\n",
      "`--ServerApp.iopub_msg_rate_limit`.\n",
      "\n",
      "Current values:\n",
      "ServerApp.iopub_msg_rate_limit=1000.0 (msgs/sec)\n",
      "ServerApp.rate_limit_window=3.0 (secs)\n",
      "\n"
     ]
    }
   ],
   "source": [
    "# Configure the parent path to be the proj folder\n",
    "import sys, os, torch, time\n",
    "sys.path.append('../../')\n",
    "sys.path.append('../../test')\n",
    "\n",
    "# Memory segmenting fix?\n",
    "os.environ[\"PYTORCH_CUDA_ALLOC_CONF\"] = \"expandable_segments:True\"\n",
    "\n",
    "# Ensure sys.path has export PATH=/usr/local/cuda/bin${PATH:+:${PATH}}\n",
    "# so that the CUDA binaries are available\n",
    "if \"/cuda/bin\" not in sys.path:\n",
    "    sys.path.append('/usr/local/cuda/bin')\n",
    "\n",
    "# Import the model classes\n",
    "from rwkv_block.v7_goose.model.rwkv7_goose_model import RWKV7GooseModel\n",
    "from trainer.SimpleTestTrainer import SimpleTestTrainer\n",
    "\n",
    "# Device to run on\n",
    "RUN_DEVICE=\"cuda:0\"\n",
    "\n",
    "# If multiple cuda devices are available\n",
    "# we use the respective device, so that I can run multiple notebooks in parallel\n",
    "#\n",
    "# Comment out this logic if you intend to manually set the device\n",
    "if torch.cuda.device_count() >= 8:\n",
    "    RUN_DEVICE=\"cuda:3\"\n",
    "\n",
    "# Training batch size\n",
    "BATCH_SIZE = 4\n",
    "\n",
    "# Model shape and size\n",
    "LAYER_COUNT = 12\n",
    "DIM_SIZE = 512\n",
    "TMIX_BACKEND=\"cuda_ref\"\n",
    "\n",
    "# Create and initalize the model\n",
    "model = RWKV7GooseModel({\n",
    "    \"num_hidden_layers\": LAYER_COUNT,\n",
    "    \"hidden_size\": DIM_SIZE,\n",
    "    \"tmix_backend\": TMIX_BACKEND,\n",
    "    \"device\": RUN_DEVICE,\n",
    "    \"dtype\": \"bfloat16\",\n",
    "    \"vocab_size\": 50432\n",
    "})\n",
    "model.init_parameters()\n",
    "\n",
    "# Setup the trainer\n",
    "trainer = SimpleTestTrainer(model, device=RUN_DEVICE, batch_size=BATCH_SIZE)\n",
    "\n",
    "# Trigger the train process\n",
    "trainer.train()"
   ]
  }
 ],
 "metadata": {
  "kernelspec": {
   "display_name": "Python [conda env:py-3-12]",
   "language": "python",
   "name": "conda-env-py-3-12-py"
  },
  "language_info": {
   "codemirror_mode": {
    "name": "ipython",
    "version": 3
   },
   "file_extension": ".py",
   "mimetype": "text/x-python",
   "name": "python",
   "nbconvert_exporter": "python",
   "pygments_lexer": "ipython3",
   "version": "3.12.8"
  }
 },
 "nbformat": 4,
 "nbformat_minor": 4
}
