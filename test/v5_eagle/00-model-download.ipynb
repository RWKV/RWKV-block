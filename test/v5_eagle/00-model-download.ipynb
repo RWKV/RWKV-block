{
 "cells": [
  {
   "cell_type": "code",
   "execution_count": 1,
   "metadata": {},
   "outputs": [
    {
     "name": "stdout",
     "output_type": "stream",
     "text": [
      "--2024-07-07 01:43:46--  https://huggingface.co/RWKV/rwkv-5-world-all-pth/resolve/main/RWKV-5-World-0.4B-v2-20231113-ctx4096.pth?download=true\n",
      "Resolving huggingface.co (huggingface.co)... 108.138.246.67, 108.138.246.71, 108.138.246.79, ...\n",
      "Connecting to huggingface.co (huggingface.co)|108.138.246.67|:443... connected.\n",
      "HTTP request sent, awaiting response... 302 Found\n",
      "Location: https://cdn-lfs.huggingface.co/repos/5b/7c/5b7c36dbd0cb6b4e13786bd6d8eb3452ad7698876f870a506145730c42b608bd/5a288c54c7f30b0e2d4af23991133fad2af2d5e59ec7ad850ffe78054a5e4f92?response-content-disposition=attachment%3B+filename*%3DUTF-8%27%27RWKV-5-World-0.4B-v2-20231113-ctx4096.pth%3B+filename%3D%22RWKV-5-World-0.4B-v2-20231113-ctx4096.pth%22%3B&Expires=1720575826&Policy=eyJTdGF0ZW1lbnQiOlt7IkNvbmRpdGlvbiI6eyJEYXRlTGVzc1RoYW4iOnsiQVdTOkVwb2NoVGltZSI6MTcyMDU3NTgyNn19LCJSZXNvdXJjZSI6Imh0dHBzOi8vY2RuLWxmcy5odWdnaW5nZmFjZS5jby9yZXBvcy81Yi83Yy81YjdjMzZkYmQwY2I2YjRlMTM3ODZiZDZkOGViMzQ1MmFkNzY5ODg3NmY4NzBhNTA2MTQ1NzMwYzQyYjYwOGJkLzVhMjg4YzU0YzdmMzBiMGUyZDRhZjIzOTkxMTMzZmFkMmFmMmQ1ZTU5ZWM3YWQ4NTBmZmU3ODA1NGE1ZTRmOTI%7EcmVzcG9uc2UtY29udGVudC1kaXNwb3NpdGlvbj0qIn1dfQ__&Signature=hChNdsu87iTBXErtoBuTL69tsUJhZS4gQz0iOV5FSrZUbh3faT6L9gAdYoNe2gcz0UOv7PNYhTp53Hc4CRhNj-Sag8Ios9jdiZecpZGmEsjFNhqzRRcpfdXudY9U2NCcHcjo5CEO-a4xesd0GQXnYJss23WzN4jnX1DmzlRJiFUunM4fLC4S4-JPHP3Lw8C9y0seSPoEhr1fG3Jlhbr8rmBfvp7nS1uTyNWDieXFgmaeEg1-W3YlUQpG63nG0ZBoPV9Y5kJ1NT-NfIg06vRdW7mvjP3f5ca7yEzYuTosNzslmy-HtVmKngTUvpyl%7EUF7Bnh4QaymjYqd9EeHam6WVw__&Key-Pair-Id=K3ESJI6DHPFC7 [following]\n",
      "--2024-07-07 01:43:46--  https://cdn-lfs.huggingface.co/repos/5b/7c/5b7c36dbd0cb6b4e13786bd6d8eb3452ad7698876f870a506145730c42b608bd/5a288c54c7f30b0e2d4af23991133fad2af2d5e59ec7ad850ffe78054a5e4f92?response-content-disposition=attachment%3B+filename*%3DUTF-8%27%27RWKV-5-World-0.4B-v2-20231113-ctx4096.pth%3B+filename%3D%22RWKV-5-World-0.4B-v2-20231113-ctx4096.pth%22%3B&Expires=1720575826&Policy=eyJTdGF0ZW1lbnQiOlt7IkNvbmRpdGlvbiI6eyJEYXRlTGVzc1RoYW4iOnsiQVdTOkVwb2NoVGltZSI6MTcyMDU3NTgyNn19LCJSZXNvdXJjZSI6Imh0dHBzOi8vY2RuLWxmcy5odWdnaW5nZmFjZS5jby9yZXBvcy81Yi83Yy81YjdjMzZkYmQwY2I2YjRlMTM3ODZiZDZkOGViMzQ1MmFkNzY5ODg3NmY4NzBhNTA2MTQ1NzMwYzQyYjYwOGJkLzVhMjg4YzU0YzdmMzBiMGUyZDRhZjIzOTkxMTMzZmFkMmFmMmQ1ZTU5ZWM3YWQ4NTBmZmU3ODA1NGE1ZTRmOTI%7EcmVzcG9uc2UtY29udGVudC1kaXNwb3NpdGlvbj0qIn1dfQ__&Signature=hChNdsu87iTBXErtoBuTL69tsUJhZS4gQz0iOV5FSrZUbh3faT6L9gAdYoNe2gcz0UOv7PNYhTp53Hc4CRhNj-Sag8Ios9jdiZecpZGmEsjFNhqzRRcpfdXudY9U2NCcHcjo5CEO-a4xesd0GQXnYJss23WzN4jnX1DmzlRJiFUunM4fLC4S4-JPHP3Lw8C9y0seSPoEhr1fG3Jlhbr8rmBfvp7nS1uTyNWDieXFgmaeEg1-W3YlUQpG63nG0ZBoPV9Y5kJ1NT-NfIg06vRdW7mvjP3f5ca7yEzYuTosNzslmy-HtVmKngTUvpyl%7EUF7Bnh4QaymjYqd9EeHam6WVw__&Key-Pair-Id=K3ESJI6DHPFC7\n",
      "Resolving cdn-lfs.huggingface.co (cdn-lfs.huggingface.co)... 18.238.192.34, 18.238.192.98, 18.238.192.50, ...\n",
      "Connecting to cdn-lfs.huggingface.co (cdn-lfs.huggingface.co)|18.238.192.34|:443... connected.\n",
      "HTTP request sent, awaiting response... 200 OK\n",
      "Length: 923523954 (881M) [binary/octet-stream]\n",
      "Saving to: ‘./.model/v5-0B4.pth’\n",
      "\n",
      "./.model/v5-0B4.pth 100%[===================>] 880.74M  44.3MB/s    in 21s     \n",
      "\n",
      "2024-07-07 01:44:08 (41.7 MB/s) - ‘./.model/v5-0B4.pth’ saved [923523954/923523954]\n",
      "\n"
     ]
    }
   ],
   "source": [
    "!mkdir -p \"./.model\"\n",
    "!wget -nc \"https://huggingface.co/RWKV/rwkv-5-world-all-pth/resolve/main/RWKV-5-World-0.4B-v2-20231113-ctx4096.pth?download=true\" -O \"./.model/v5-0B4.pth\""
   ]
  }
 ],
 "metadata": {
  "kernelspec": {
   "display_name": "base",
   "language": "python",
   "name": "python3"
  },
  "language_info": {
   "codemirror_mode": {
    "name": "ipython",
    "version": 3
   },
   "file_extension": ".py",
   "mimetype": "text/x-python",
   "name": "python",
   "nbconvert_exporter": "python",
   "pygments_lexer": "ipython3",
   "version": "3.11.9"
  }
 },
 "nbformat": 4,
 "nbformat_minor": 2
}
