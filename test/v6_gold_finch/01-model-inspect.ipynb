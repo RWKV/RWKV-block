{
 "cells": [
  {
   "cell_type": "code",
   "execution_count": 1,
   "metadata": {},
   "outputs": [],
   "source": [
    "# Inspecting the v6 x060 upgraded models\n",
    "\n",
    "import os, torch\n",
    "\n",
    "goldfinc_x060_upgraded = torch.load('./.model/L24-D2048-x060_goco-add-upgrade-chunk0-100m.pth')\n",
    "\n",
    "def log_model_weights(model_weight):\n",
    "    # Lets get the n_dim, and setup the test module\n",
    "    n_dim = model_weight['emb.weight'].shape[1]\n",
    "    print(f\"### Model n_dim: {n_dim}\")\n",
    "\n",
    "    # List the model weights keys, and their shapes\n",
    "    print(f\"### model weights keys:\")\n",
    "    for key in model_weight:\n",
    "        print(f\"{key}: {model_weight[key].shape} - {model_weight[key].dtype}\")\n",
    "\n",
    "    # Return n_dim\n",
    "    return n_dim"
   ]
  }
 ],
 "metadata": {
  "kernelspec": {
   "display_name": "base",
   "language": "python",
   "name": "python3"
  },
  "language_info": {
   "codemirror_mode": {
    "name": "ipython",
    "version": 3
   },
   "file_extension": ".py",
   "mimetype": "text/x-python",
   "name": "python",
   "nbconvert_exporter": "python",
   "pygments_lexer": "ipython3",
   "version": "3.11.9"
  }
 },
 "nbformat": 4,
 "nbformat_minor": 2
}
